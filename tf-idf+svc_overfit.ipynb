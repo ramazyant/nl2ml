{
  "nbformat": 4,
  "nbformat_minor": 0,
  "metadata": {
    "kernelspec": {
      "display_name": "Python 3",
      "language": "python",
      "name": "python3"
    },
    "language_info": {
      "codemirror_mode": {
        "name": "ipython",
        "version": 3
      },
      "file_extension": ".py",
      "mimetype": "text/x-python",
      "name": "python",
      "nbconvert_exporter": "python",
      "pygments_lexer": "ipython3",
      "version": "3.7.4"
    },
    "colab": {
      "name": "svc.ipynb",
      "provenance": [],
      "collapsed_sections": []
    },
    "accelerator": "TPU"
  },
  "cells": [
    {
      "cell_type": "code",
      "metadata": {
        "id": "RGwxBtR_wDMN",
        "colab_type": "code",
        "outputId": "020b9ce6-679a-4f37-8dea-386a2d5c20d5",
        "colab": {
          "base_uri": "https://localhost:8080/",
          "height": 54
        }
      },
      "source": [
        "from google.colab import drive\n",
        "drive.mount('/content/drive')"
      ],
      "execution_count": 0,
      "outputs": [
        {
          "output_type": "stream",
          "text": [
            "Drive already mounted at /content/drive; to attempt to forcibly remount, call drive.mount(\"/content/drive\", force_remount=True).\n"
          ],
          "name": "stdout"
        }
      ]
    },
    {
      "cell_type": "code",
      "metadata": {
        "id": "bjUa4DGTMtHz",
        "colab_type": "code",
        "colab": {}
      },
      "source": [
        "import pandas as pd\n",
        "import re\n",
        "from nltk.tokenize import RegexpTokenizer\n",
        "import numpy as np"
      ],
      "execution_count": 0,
      "outputs": []
    },
    {
      "cell_type": "code",
      "metadata": {
        "id": "f4SxVoVfMtIG",
        "colab_type": "code",
        "outputId": "3d9d9467-81d0-4fb0-9eba-4765ba208f1e",
        "colab": {
          "base_uri": "https://localhost:8080/",
          "height": 1000
        }
      },
      "source": [
        "%%time\n",
        "\n",
        "df = pd.read_csv('/content/drive/My Drive/nl2ml_data/code_blocks.csv', sep='\\t', delimiter='\\t',\n",
        "                 encoding='utf-8', error_bad_lines=False, engine='python')"
      ],
      "execution_count": 0,
      "outputs": [
        {
          "output_type": "stream",
          "text": [
            "Skipping line 7662: field larger than field limit (131072)\n",
            "Skipping line 24774: field larger than field limit (131072)\n",
            "Skipping line 45491: field larger than field limit (131072)\n",
            "Skipping line 53234: field larger than field limit (131072)\n",
            "Skipping line 53235: field larger than field limit (131072)\n",
            "Skipping line 53236: field larger than field limit (131072)\n",
            "Skipping line 54382: field larger than field limit (131072)\n",
            "Skipping line 60222: field larger than field limit (131072)\n",
            "Skipping line 60223: field larger than field limit (131072)\n",
            "Skipping line 60224: field larger than field limit (131072)\n",
            "Skipping line 60225: field larger than field limit (131072)\n",
            "Skipping line 60226: field larger than field limit (131072)\n",
            "Skipping line 60227: field larger than field limit (131072)\n",
            "Skipping line 60228: field larger than field limit (131072)\n",
            "Skipping line 60229: field larger than field limit (131072)\n",
            "Skipping line 60230: field larger than field limit (131072)\n",
            "Skipping line 60231: field larger than field limit (131072)\n",
            "Skipping line 60232: field larger than field limit (131072)\n",
            "Skipping line 60233: field larger than field limit (131072)\n",
            "Skipping line 60234: field larger than field limit (131072)\n",
            "Skipping line 60235: field larger than field limit (131072)\n",
            "Skipping line 60236: field larger than field limit (131072)\n",
            "Skipping line 60237: field larger than field limit (131072)\n",
            "Skipping line 60238: field larger than field limit (131072)\n",
            "Skipping line 60239: field larger than field limit (131072)\n",
            "Skipping line 60240: field larger than field limit (131072)\n",
            "Skipping line 60241: field larger than field limit (131072)\n",
            "Skipping line 60242: field larger than field limit (131072)\n",
            "Skipping line 60243: field larger than field limit (131072)\n",
            "Skipping line 60925: field larger than field limit (131072)\n",
            "Skipping line 60926: field larger than field limit (131072)\n",
            "Skipping line 60927: field larger than field limit (131072)\n",
            "Skipping line 61315: field larger than field limit (131072)\n",
            "Skipping line 61316: field larger than field limit (131072)\n",
            "Skipping line 65447: field larger than field limit (131072)\n",
            "Skipping line 66776: field larger than field limit (131072)\n",
            "Skipping line 69667: field larger than field limit (131072)\n",
            "Skipping line 69668: field larger than field limit (131072)\n",
            "Skipping line 69669: field larger than field limit (131072)\n",
            "Skipping line 69670: field larger than field limit (131072)\n",
            "Skipping line 69671: field larger than field limit (131072)\n",
            "Skipping line 69672: field larger than field limit (131072)\n",
            "Skipping line 69673: field larger than field limit (131072)\n",
            "Skipping line 69674: field larger than field limit (131072)\n",
            "Skipping line 69675: field larger than field limit (131072)\n",
            "Skipping line 69676: field larger than field limit (131072)\n",
            "Skipping line 69677: field larger than field limit (131072)\n",
            "Skipping line 69678: field larger than field limit (131072)\n",
            "Skipping line 69679: field larger than field limit (131072)\n",
            "Skipping line 69680: field larger than field limit (131072)\n",
            "Skipping line 69681: field larger than field limit (131072)\n",
            "Skipping line 72419: field larger than field limit (131072)\n",
            "Skipping line 72941: field larger than field limit (131072)\n",
            "Skipping line 72942: field larger than field limit (131072)\n",
            "Skipping line 72943: field larger than field limit (131072)\n",
            "Skipping line 72944: field larger than field limit (131072)\n",
            "Skipping line 73159: field larger than field limit (131072)\n",
            "Skipping line 75702: field larger than field limit (131072)\n",
            "Skipping line 75731: field larger than field limit (131072)\n",
            "Skipping line 75732: field larger than field limit (131072)\n",
            "Skipping line 75733: field larger than field limit (131072)\n",
            "Skipping line 86545: field larger than field limit (131072)\n",
            "Skipping line 86546: field larger than field limit (131072)\n",
            "Skipping line 104036: field larger than field limit (131072)\n",
            "Skipping line 104037: field larger than field limit (131072)\n",
            "Skipping line 104039: field larger than field limit (131072)\n",
            "Skipping line 104040: field larger than field limit (131072)\n",
            "Skipping line 104042: field larger than field limit (131072)\n",
            "Skipping line 104043: field larger than field limit (131072)\n",
            "Skipping line 105930: field larger than field limit (131072)\n",
            "Skipping line 105934: field larger than field limit (131072)\n",
            "Skipping line 105935: field larger than field limit (131072)\n",
            "Skipping line 105936: field larger than field limit (131072)\n",
            "Skipping line 105937: field larger than field limit (131072)\n",
            "Skipping line 108115: field larger than field limit (131072)\n",
            "Skipping line 120097: field larger than field limit (131072)\n",
            "Skipping line 120736: field larger than field limit (131072)\n",
            "Skipping line 120737: field larger than field limit (131072)\n",
            "Skipping line 120738: field larger than field limit (131072)\n",
            "Skipping line 120745: field larger than field limit (131072)\n",
            "Skipping line 120746: field larger than field limit (131072)\n",
            "Skipping line 120747: field larger than field limit (131072)\n",
            "Skipping line 126670: field larger than field limit (131072)\n",
            "Skipping line 126956: field larger than field limit (131072)\n",
            "Skipping line 126957: field larger than field limit (131072)\n",
            "Skipping line 127065: field larger than field limit (131072)\n",
            "Skipping line 127066: field larger than field limit (131072)\n",
            "Skipping line 130935: field larger than field limit (131072)\n",
            "Skipping line 130936: field larger than field limit (131072)\n",
            "Skipping line 133510: field larger than field limit (131072)\n",
            "Skipping line 136468: field larger than field limit (131072)\n",
            "Skipping line 136469: field larger than field limit (131072)\n",
            "Skipping line 136470: field larger than field limit (131072)\n",
            "Skipping line 136471: field larger than field limit (131072)\n",
            "Skipping line 136472: field larger than field limit (131072)\n",
            "Skipping line 136473: field larger than field limit (131072)\n",
            "Skipping line 136474: field larger than field limit (131072)\n",
            "Skipping line 136475: field larger than field limit (131072)\n",
            "Skipping line 136476: field larger than field limit (131072)\n",
            "Skipping line 136477: field larger than field limit (131072)\n",
            "Skipping line 136478: field larger than field limit (131072)\n",
            "Skipping line 136479: field larger than field limit (131072)\n",
            "Skipping line 137035: field larger than field limit (131072)\n",
            "Skipping line 137036: field larger than field limit (131072)\n",
            "Skipping line 137037: field larger than field limit (131072)\n",
            "Skipping line 146567: field larger than field limit (131072)\n",
            "Skipping line 146568: field larger than field limit (131072)\n",
            "Skipping line 146569: field larger than field limit (131072)\n",
            "Skipping line 146570: field larger than field limit (131072)\n",
            "Skipping line 146571: field larger than field limit (131072)\n",
            "Skipping line 146572: field larger than field limit (131072)\n",
            "Skipping line 151001: field larger than field limit (131072)\n",
            "Skipping line 151070: field larger than field limit (131072)\n",
            "Skipping line 151530: field larger than field limit (131072)\n",
            "Skipping line 160730: field larger than field limit (131072)\n",
            "Skipping line 160731: field larger than field limit (131072)\n",
            "Skipping line 160736: field larger than field limit (131072)\n",
            "Skipping line 160738: field larger than field limit (131072)\n",
            "Skipping line 178905: field larger than field limit (131072)\n",
            "Skipping line 178906: field larger than field limit (131072)\n",
            "Skipping line 178907: field larger than field limit (131072)\n",
            "Skipping line 178908: field larger than field limit (131072)\n",
            "Skipping line 178909: field larger than field limit (131072)\n",
            "Skipping line 178910: field larger than field limit (131072)\n",
            "Skipping line 178911: field larger than field limit (131072)\n",
            "Skipping line 178912: field larger than field limit (131072)\n",
            "Skipping line 178913: field larger than field limit (131072)\n",
            "Skipping line 178914: field larger than field limit (131072)\n",
            "Skipping line 178915: field larger than field limit (131072)\n",
            "Skipping line 178916: field larger than field limit (131072)\n",
            "Skipping line 178917: field larger than field limit (131072)\n",
            "Skipping line 178918: field larger than field limit (131072)\n",
            "Skipping line 178919: field larger than field limit (131072)\n",
            "Skipping line 183396: field larger than field limit (131072)\n",
            "Skipping line 183397: field larger than field limit (131072)\n",
            "Skipping line 183398: field larger than field limit (131072)\n",
            "Skipping line 183399: field larger than field limit (131072)\n",
            "Skipping line 183400: field larger than field limit (131072)\n",
            "Skipping line 183401: field larger than field limit (131072)\n",
            "Skipping line 183402: field larger than field limit (131072)\n",
            "Skipping line 183860: field larger than field limit (131072)\n",
            "Skipping line 183861: field larger than field limit (131072)\n",
            "Skipping line 183862: field larger than field limit (131072)\n",
            "Skipping line 183863: field larger than field limit (131072)\n",
            "Skipping line 183864: field larger than field limit (131072)\n",
            "Skipping line 188522: field larger than field limit (131072)\n",
            "Skipping line 188523: field larger than field limit (131072)\n",
            "Skipping line 208804: field larger than field limit (131072)\n",
            "Skipping line 208805: field larger than field limit (131072)\n",
            "Skipping line 208806: field larger than field limit (131072)\n",
            "Skipping line 208807: field larger than field limit (131072)\n",
            "Skipping line 208808: field larger than field limit (131072)\n",
            "Skipping line 208826: field larger than field limit (131072)\n",
            "Skipping line 208827: field larger than field limit (131072)\n",
            "Skipping line 208828: field larger than field limit (131072)\n",
            "Skipping line 208829: field larger than field limit (131072)\n",
            "Skipping line 208830: field larger than field limit (131072)\n",
            "Skipping line 208831: field larger than field limit (131072)\n",
            "Skipping line 208832: field larger than field limit (131072)\n",
            "Skipping line 208833: field larger than field limit (131072)\n",
            "Skipping line 208834: field larger than field limit (131072)\n",
            "Skipping line 208835: field larger than field limit (131072)\n",
            "Skipping line 208836: field larger than field limit (131072)\n",
            "Skipping line 208837: field larger than field limit (131072)\n",
            "Skipping line 208838: field larger than field limit (131072)\n",
            "Skipping line 208839: field larger than field limit (131072)\n",
            "Skipping line 208840: field larger than field limit (131072)\n",
            "Skipping line 214482: field larger than field limit (131072)\n",
            "Skipping line 214483: field larger than field limit (131072)\n",
            "Skipping line 214484: field larger than field limit (131072)\n",
            "Skipping line 241946: field larger than field limit (131072)\n",
            "Skipping line 241947: field larger than field limit (131072)\n",
            "Skipping line 247623: field larger than field limit (131072)\n",
            "Skipping line 247863: field larger than field limit (131072)\n",
            "Skipping line 249407: field larger than field limit (131072)\n",
            "Skipping line 249408: field larger than field limit (131072)\n",
            "Skipping line 250473: field larger than field limit (131072)\n",
            "Skipping line 250474: field larger than field limit (131072)\n",
            "Skipping line 250475: field larger than field limit (131072)\n",
            "Skipping line 250477: field larger than field limit (131072)\n",
            "Skipping line 257013: field larger than field limit (131072)\n",
            "Skipping line 257014: field larger than field limit (131072)\n",
            "Skipping line 264457: field larger than field limit (131072)\n",
            "Skipping line 264475: field larger than field limit (131072)\n",
            "Skipping line 264538: field larger than field limit (131072)\n",
            "Skipping line 264539: field larger than field limit (131072)\n",
            "Skipping line 264540: field larger than field limit (131072)\n",
            "Skipping line 264541: field larger than field limit (131072)\n",
            "Skipping line 264542: field larger than field limit (131072)\n",
            "Skipping line 264543: field larger than field limit (131072)\n"
          ],
          "name": "stderr"
        },
        {
          "output_type": "stream",
          "text": [
            "CPU times: user 3.3 s, sys: 260 ms, total: 3.56 s\n",
            "Wall time: 3.59 s\n"
          ],
          "name": "stdout"
        }
      ]
    },
    {
      "cell_type": "code",
      "metadata": {
        "id": "PtZRDYGb8uGg",
        "colab_type": "code",
        "outputId": "ea9478ee-b330-4688-cd65-8cf315d03ccb",
        "colab": {
          "base_uri": "https://localhost:8080/",
          "height": 34
        }
      },
      "source": [
        "print(df.shape)"
      ],
      "execution_count": 0,
      "outputs": [
        {
          "output_type": "stream",
          "text": [
            "(271587, 2)\n"
          ],
          "name": "stdout"
        }
      ]
    },
    {
      "cell_type": "markdown",
      "metadata": {
        "id": "oycddUVRXS7V",
        "colab_type": "text"
      },
      "source": [
        "**TAGGING**"
      ]
    },
    {
      "cell_type": "code",
      "metadata": {
        "id": "5Llb7lHdYWyz",
        "colab_type": "code",
        "colab": {}
      },
      "source": [
        "graph = {'imports':['import ', ' from ']\n",
        "          ,'load_data':['.load', '_load', '_dump' '.csv', 'glob', 'pickle.', 'read_', 'download', '.txt', '.json', '.png', '.jpg', '.jpeg']\n",
        "          ,'preprocessing':['preprocess', 'plot.', 'plt.', 'graph', 'histogram', 'hist', 'sns.', 'plotline', 'chart', 'diagram', 'heatmap', 'figure', 'encode', 'fill', 'merge', 'vectorize', 'generation', 'augmentation', 'stemming', 'lemmatization', 'scale', 'normalize', 'crop', 'convert', 'resize']\n",
        "          ,'model':['LinearRegression', 'RandomForest', 'Ridge', 'Lasso', 'SGD', 'LogisticRegression', 'SVM', 'SVC', 'SVR', 'Layer', 'xgboost', 'LGBM', 'CatBoost']\n",
        "          ,'train': ['.fit_transform', '.fit', 'epoch', 'loss', 'learn', 'optimizer']\n",
        "          ,'predict':['.predict', '_error', '.mean_', '_score', '_distance']\n",
        "}"
      ],
      "execution_count": 0,
      "outputs": []
    },
    {
      "cell_type": "code",
      "metadata": {
        "id": "PZ-3q2afMtIm",
        "colab_type": "code",
        "colab": {}
      },
      "source": [
        "def tokens_search(df, tokens, new_column_name):\n",
        "    df[new_column_name] = 0\n",
        "    for i in range(len(df)):\n",
        "        percents = str(round(100*i/len(df),1))\n",
        "        print(percents + '%\\r', end='')\n",
        "        for token in tokens:\n",
        "            if token in df['code_block'][i]:\n",
        "                df[new_column_name][i] = 1\n",
        "                break\n",
        "    return df"
      ],
      "execution_count": 0,
      "outputs": []
    },
    {
      "cell_type": "code",
      "metadata": {
        "id": "DAyIjla3MtIt",
        "colab_type": "code",
        "outputId": "604a021b-2410-4a36-8517-28de48192bfd",
        "colab": {
          "base_uri": "https://localhost:8080/",
          "height": 156
        }
      },
      "source": [
        "%%time\n",
        "for i in range(0, len(graph)):\n",
        "    vertex = list(graph.keys())[i]\n",
        "    tokens = graph[vertex]\n",
        "    df = tokens_search(df, tokens, vertex)"
      ],
      "execution_count": 0,
      "outputs": [
        {
          "output_type": "stream",
          "text": [
            "0.0%\r0.0%\r0.0%\r0.0%\r0.0%\r0.0%\r0.0%\r0.0%\r0.0%\r0.0%\r0.0%\r0.0%\r0.0%\r0.0%\r0.0%\r0.0%\r0.0%\r0.0%\r0.0%\r0.0%\r0.0%\r0.0%\r0.0%\r0.0%\r0.0%\r0.0%\r0.0%\r0.0%\r0.0%\r0.0%\r0.0%\r0.0%\r0.0%\r0.0%\r0.0%\r0.0%\r0.0%\r0.0%\r0.0%\r0.0%\r0.0%\r0.0%\r0.0%\r0.0%\r0.0%\r0.0%\r0.0%\r0.0%\r0.0%\r0.0%\r0.0%\r0.0%\r0.0%\r0.0%\r0.0%\r0.0%\r0.0%\r0.0%\r0.0%\r0.0%\r0.0%\r0.0%\r0.0%\r0.0%\r0.0%\r0.0%\r0.0%\r0.0%\r0.0%\r0.0%\r0.0%\r0.0%\r0.0%\r0.0%\r0.0%\r0.0%\r0.0%\r0.0%\r0.0%\r0.0%\r0.0%\r0.0%\r0.0%\r0.0%\r0.0%\r0.0%\r0.0%\r0.0%\r0.0%\r0.0%\r0.0%\r0.0%\r0.0%\r0.0%\r0.0%\r0.0%\r0.0%\r0.0%\r0.0%\r0.0%\r0.0%\r0.0%\r0.0%\r0.0%\r0.0%\r0.0%\r0.0%\r0.0%\r0.0%\r0.0%\r0.0%\r0.0%\r0.0%\r0.0%\r0.0%\r0.0%\r0.0%\r0.0%\r0.0%\r0.0%\r0.0%\r0.0%\r0.0%\r0.0%\r0.0%\r0.0%\r0.0%\r0.0%\r0.0%\r0.0%\r0.0%\r0.0%\r0.0%\r0.0%\r0.0%\r0.0%\r0.1%\r0.1%\r0.1%\r0.1%\r0.1%\r0.1%\r0.1%\r0.1%\r0.1%\r0.1%\r0.1%\r0.1%\r0.1%\r0.1%\r0.1%\r0.1%\r0.1%\r0.1%\r0.1%\r0.1%\r0.1%\r0.1%\r0.1%\r0.1%\r0.1%\r0.1%\r0.1%\r0.1%\r0.1%\r0.1%\r0.1%\r0.1%\r0.1%\r0.1%\r0.1%\r0.1%\r0.1%\r0.1%\r0.1%\r0.1%\r0.1%\r0.1%\r0.1%\r0.1%\r0.1%\r0.1%\r0.1%\r0.1%\r0.1%\r0.1%\r0.1%\r0.1%\r0.1%\r0.1%\r0.1%\r0.1%\r0.1%\r0.1%\r0.1%\r0.1%\r0.1%\r0.1%\r0.1%\r0.1%\r0.1%\r0.1%\r0.1%\r0.1%\r0.1%\r0.1%\r0.1%\r0.1%\r0.1%\r0.1%\r0.1%\r0.1%\r0.1%\r0.1%\r0.1%\r0.1%\r0.1%\r0.1%\r0.1%\r0.1%\r0.1%\r0.1%\r0.1%\r0.1%\r0.1%\r0.1%\r0.1%\r0.1%\r0.1%\r0.1%\r0.1%\r0.1%\r0.1%\r0.1%\r0.1%\r0.1%\r0.1%\r0.1%\r0.1%\r0.1%\r0.1%\r0.1%\r0.1%\r0.1%\r0.1%\r0.1%\r0.1%\r0.1%\r0.1%\r0.1%\r0.1%\r0.1%\r0.1%\r0.1%\r0.1%\r0.1%\r0.1%\r0.1%\r0.1%\r0.1%\r0.1%\r0.1%\r0.1%\r0.1%\r0.1%\r0.1%\r0.1%\r0.1%\r0.1%\r0.1%\r0.1%\r0.1%\r0.1%\r0.1%\r0.1%\r0.1%\r0.1%\r0.1%\r0.1%\r0.1%\r0.1%\r0.1%\r0.1%\r0.1%\r0.1%\r0.1%\r0.1%\r0.1%\r0.1%\r0.1%\r0.1%\r0.1%\r0.1%\r0.1%\r0.1%\r0.1%\r0.1%\r0.1%\r0.1%\r0.1%\r0.1%\r0.1%\r0.1%\r0.1%\r0.1%\r0.1%\r0.1%\r0.1%\r0.1%\r0.1%\r0.1%\r0.1%\r0.1%\r0.1%\r0.1%\r0.1%\r0.1%\r0.1%\r0.1%\r0.1%\r0.1%\r0.1%\r0.1%\r0.1%\r0.1%\r0.1%\r0.1%\r0.1%\r0.1%\r0.1%\r0.1%\r0.1%\r0.1%\r0.1%\r0.1%\r0.1%\r0.1%\r0.1%\r0.1%\r0.1%\r0.1%\r0.1%\r0.1%\r0.1%\r0.1%\r0.1%\r0.1%\r0.1%\r0.1%\r0.1%\r0.1%\r0.1%\r0.1%\r0.1%\r0.1%\r0.1%\r0.1%\r0.1%\r0.1%\r0.1%\r0.1%\r0.1%\r0.1%\r0.1%\r0.1%\r0.1%\r0.1%\r0.1%\r0.1%\r0.1%\r0.1%\r0.1%\r0.1%\r0.1%\r0.1%\r0.1%\r0.1%\r0.1%\r0.1%\r0.1%\r0.1%\r0.1%\r0.1%\r0.1%\r0.1%\r0.1%\r0.1%\r0.1%\r0.1%\r0.1%\r0.1%\r0.1%\r0.1%\r0.1%\r0.1%\r0.1%\r0.1%\r0.1%\r0.1%\r0.1%\r0.1%\r0.1%\r0.1%\r0.1%\r0.1%\r0.1%\r0.1%\r0.1%\r0.2%\r0.2%\r0.2%\r0.2%\r0.2%\r0.2%\r0.2%\r0.2%\r0.2%\r0.2%\r0.2%\r0.2%\r0.2%\r0.2%\r0.2%\r0.2%\r0.2%\r0.2%\r0.2%\r0.2%\r0.2%\r0.2%\r0.2%\r0.2%\r0.2%\r0.2%\r0.2%\r0.2%\r0.2%\r0.2%\r0.2%\r0.2%\r0.2%\r0.2%\r0.2%\r0.2%\r0.2%\r0.2%\r0.2%\r0.2%\r0.2%\r0.2%\r0.2%\r0.2%\r0.2%\r0.2%\r0.2%\r0.2%\r0.2%\r0.2%\r0.2%\r0.2%\r0.2%\r0.2%\r0.2%\r0.2%\r0.2%\r0.2%\r0.2%\r0.2%\r0.2%\r0.2%\r0.2%\r0.2%\r0.2%\r0.2%\r0.2%\r0.2%\r0.2%\r0.2%\r0.2%\r0.2%\r0.2%\r0.2%\r0.2%\r0.2%\r0.2%\r0.2%\r0.2%\r0.2%\r0.2%\r0.2%\r0.2%\r0.2%\r0.2%\r0.2%\r0.2%\r0.2%\r0.2%\r0.2%\r0.2%\r0.2%\r0.2%\r0.2%\r0.2%\r0.2%\r0.2%\r0.2%\r0.2%\r0.2%\r0.2%\r0.2%\r0.2%\r0.2%\r0.2%\r0.2%\r0.2%\r0.2%\r0.2%\r0.2%\r0.2%\r0.2%\r0.2%\r0.2%\r0.2%\r0.2%\r0.2%\r0.2%\r0.2%\r0.2%\r0.2%\r0.2%\r0.2%\r0.2%\r0.2%\r0.2%\r0.2%\r0.2%\r0.2%\r0.2%\r0.2%\r0.2%\r0.2%\r0.2%\r0.2%\r0.2%\r0.2%\r0.2%\r0.2%\r0.2%\r0.2%\r0.2%\r0.2%\r0.2%\r0.2%\r0.2%\r0.2%\r0.2%\r0.2%\r0.2%\r0.2%\r0.2%\r0.2%\r0.2%\r0.2%\r0.2%\r0.2%\r0.2%\r0.2%\r0.2%\r0.2%\r0.2%\r0.2%\r0.2%\r0.2%\r0.2%\r0.2%\r0.2%\r0.2%\r0.2%\r0.2%\r0.2%\r0.2%\r0.2%\r0.2%\r0.2%\r0.2%\r0.2%\r0.2%\r0.2%\r0.2%\r0.2%\r0.2%\r0.2%\r0.2%\r0.2%\r0.2%\r0.2%\r0.2%\r0.2%\r0.2%\r0.2%\r0.2%\r0.2%\r0.2%\r0.2%\r0.2%\r0.2%\r0.2%\r0.2%\r0.2%\r0.2%\r0.2%\r0.2%\r0.2%\r0.2%\r0.2%\r0.2%\r0.2%\r0.2%\r0.2%\r0.2%\r0.2%\r0.2%\r0.2%\r0.2%\r0.2%\r0.2%\r0.2%\r0.2%\r0.2%\r0.2%\r0.2%\r0.2%\r0.2%\r0.2%\r0.2%\r0.2%\r0.2%\r0.2%\r0.2%\r0.2%\r0.2%\r0.2%\r0.2%\r0.2%\r0.2%\r0.2%\r0.2%\r0.2%\r0.2%\r0.2%\r0.2%\r0.2%\r0.2%\r0.2%\r0.2%\r0.2%\r0.2%\r0.2%\r0.2%\r0.2%\r0.2%\r0.2%\r0.2%\r0.2%\r0.2%\r0.2%\r0.2%\r0.2%\r0.2%\r0.2%\r0.2%\r0.2%\r0.2%\r0.2%\r0.2%\r0.2%\r0.2%\r0.2%\r0.2%\r0.3%\r0.3%\r0.3%\r0.3%\r0.3%\r0.3%\r0.3%\r0.3%\r0.3%\r0.3%\r0.3%\r0.3%\r0.3%\r0.3%\r0.3%\r0.3%\r0.3%\r0.3%\r0.3%\r0.3%\r0.3%\r0.3%\r0.3%\r0.3%\r0.3%\r0.3%\r0.3%\r0.3%\r0.3%\r0.3%\r0.3%\r0.3%\r0.3%\r0.3%\r0.3%\r0.3%\r0.3%\r0.3%\r0.3%\r0.3%\r0.3%\r0.3%\r0.3%\r0.3%\r0.3%\r0.3%\r0.3%\r0.3%\r0.3%\r0.3%\r0.3%\r0.3%\r0.3%\r0.3%\r0.3%\r0.3%\r0.3%\r0.3%\r0.3%\r0.3%\r0.3%\r0.3%\r0.3%\r0.3%\r0.3%\r0.3%\r0.3%\r0.3%\r0.3%\r0.3%\r0.3%\r0.3%\r0.3%\r0.3%\r0.3%\r0.3%\r0.3%\r0.3%\r0.3%\r0.3%\r0.3%\r0.3%\r0.3%\r0.3%\r0.3%\r0.3%\r0.3%\r0.3%\r0.3%\r0.3%\r0.3%\r0.3%\r0.3%\r0.3%\r0.3%\r0.3%\r0.3%\r0.3%\r0.3%\r0.3%\r0.3%\r0.3%\r0.3%\r0.3%\r0.3%\r0.3%\r0.3%\r0.3%\r0.3%\r0.3%\r0.3%\r0.3%\r0.3%\r0.3%\r0.3%\r0.3%\r0.3%\r0.3%\r0.3%\r0.3%\r0.3%\r0.3%\r0.3%\r0.3%\r0.3%\r0.3%\r0.3%\r0.3%\r0.3%\r0.3%\r0.3%\r0.3%\r0.3%\r0.3%\r0.3%\r0.3%\r0.3%\r0.3%\r0.3%\r0.3%\r0.3%\r0.3%\r0.3%\r0.3%\r0.3%\r0.3%\r0.3%\r0.3%\r0.3%\r0.3%\r0.3%\r0.3%\r0.3%\r0.3%\r0.3%\r0.3%\r0.3%\r0.3%\r0.3%\r0.3%\r0.3%\r0.3%\r0.3%\r0.3%\r0.3%\r0.3%\r0.3%\r0.3%\r0.3%\r0.3%\r0.3%\r0.3%\r0.3%\r0.3%\r0.3%\r0.3%\r0.3%\r0.3%\r0.3%\r0.3%\r0.3%\r0.3%\r0.3%\r0.3%\r0.3%\r0.3%\r0.3%\r0.3%\r0.3%\r0.3%\r0.3%\r0.3%\r0.3%\r0.3%\r0.3%\r0.3%\r0.3%\r0.3%\r0.3%\r0.3%\r0.3%\r0.3%\r0.3%\r0.3%\r0.3%\r0.3%\r"
          ],
          "name": "stdout"
        },
        {
          "output_type": "stream",
          "text": [
            "/usr/local/lib/python3.6/dist-packages/ipykernel_launcher.py:8: SettingWithCopyWarning: \n",
            "A value is trying to be set on a copy of a slice from a DataFrame\n",
            "\n",
            "See the caveats in the documentation: https://pandas.pydata.org/pandas-docs/stable/user_guide/indexing.html#returning-a-view-versus-a-copy\n",
            "  \n"
          ],
          "name": "stderr"
        },
        {
          "output_type": "stream",
          "text": [
            "CPU times: user 8min 11s, sys: 1min 12s, total: 9min 23s\n",
            "Wall time: 8min 1s\n"
          ],
          "name": "stdout"
        }
      ]
    },
    {
      "cell_type": "code",
      "metadata": {
        "id": "xVPRj3Ny3klh",
        "colab_type": "code",
        "outputId": "dfbc6c93-6d36-4d5b-b598-5371bd470fa6",
        "colab": {
          "base_uri": "https://localhost:8080/",
          "height": 68
        }
      },
      "source": [
        "df['imports'].value_counts()"
      ],
      "execution_count": 0,
      "outputs": [
        {
          "output_type": "execute_result",
          "data": {
            "text/plain": [
              "0    232091\n",
              "1     39496\n",
              "Name: imports, dtype: int64"
            ]
          },
          "metadata": {
            "tags": []
          },
          "execution_count": 10
        }
      ]
    },
    {
      "cell_type": "markdown",
      "metadata": {
        "id": "bS-T_Q4HMtI7",
        "colab_type": "text"
      },
      "source": [
        "**SVM** for imports"
      ]
    },
    {
      "cell_type": "code",
      "metadata": {
        "id": "jZ816ND9MtI8",
        "colab_type": "code",
        "colab": {}
      },
      "source": [
        "from sklearn.feature_extraction.text import TfidfVectorizer\n",
        "from sklearn.model_selection import KFold, GridSearchCV\n",
        "from sklearn.svm import SVC\n",
        "from sklearn.model_selection import train_test_split\n",
        "\n",
        "%matplotlib inline"
      ],
      "execution_count": 0,
      "outputs": []
    },
    {
      "cell_type": "code",
      "metadata": {
        "id": "8E4UOMk3MtJE",
        "colab_type": "code",
        "colab": {}
      },
      "source": [
        "X = df['code_block']\n",
        "y = df['imports']"
      ],
      "execution_count": 0,
      "outputs": []
    },
    {
      "cell_type": "code",
      "metadata": {
        "id": "lFXh9IZ4lrX0",
        "colab_type": "code",
        "colab": {}
      },
      "source": [
        "vectorizer = TfidfVectorizer(ngram_range = (1,2), smooth_idf = True)\n",
        "X = vectorizer.fit_transform(X)"
      ],
      "execution_count": 0,
      "outputs": []
    },
    {
      "cell_type": "code",
      "metadata": {
        "id": "xCW_4HlFfnFe",
        "colab_type": "code",
        "colab": {}
      },
      "source": [
        "X_train, X_test, y_train, y_test = train_test_split(X, y, test_size=0.3)"
      ],
      "execution_count": 0,
      "outputs": []
    },
    {
      "cell_type": "code",
      "metadata": {
        "id": "knAmYP0qMtJN",
        "colab_type": "code",
        "colab": {}
      },
      "source": [
        "grid = {\"C\": [1, 10, 100]}\n",
        "cv = KFold(n_splits=5, shuffle=True, random_state=241)\n",
        "model = SVC(kernel=\"linear\", random_state=241)\n",
        "gs = GridSearchCV(model, grid, scoring=\"accuracy\", cv=cv, verbose=1, n_jobs=-1)"
      ],
      "execution_count": 0,
      "outputs": []
    },
    {
      "cell_type": "code",
      "metadata": {
        "id": "aZ_bieCnQMoC",
        "colab_type": "code",
        "outputId": "31906169-5a5b-4311-81a9-4cbe6627caad",
        "colab": {
          "base_uri": "https://localhost:8080/",
          "height": 102
        }
      },
      "source": [
        "%%time\n",
        "\n",
        "gs.fit(X_train[:100000], y_train.ravel()[:100000])\n",
        "\n",
        "C = gs.best_params_.get('C')"
      ],
      "execution_count": 0,
      "outputs": [
        {
          "output_type": "stream",
          "text": [
            "Fitting 5 folds for each of 3 candidates, totalling 15 fits\n"
          ],
          "name": "stdout"
        },
        {
          "output_type": "stream",
          "text": [
            "[Parallel(n_jobs=-1)]: Using backend LokyBackend with 2 concurrent workers.\n",
            "[Parallel(n_jobs=-1)]: Done  15 out of  15 | elapsed: 78.6min finished\n"
          ],
          "name": "stderr"
        },
        {
          "output_type": "stream",
          "text": [
            "CPU times: user 13min 37s, sys: 244 ms, total: 13min 38s\n",
            "Wall time: 1h 32min 12s\n"
          ],
          "name": "stdout"
        }
      ]
    },
    {
      "cell_type": "code",
      "metadata": {
        "id": "rq8utdWc0qOa",
        "colab_type": "code",
        "outputId": "7f9a1ad5-4421-4be5-c229-8f94505893e5",
        "colab": {
          "base_uri": "https://localhost:8080/",
          "height": 34
        }
      },
      "source": [
        "print(C)"
      ],
      "execution_count": 0,
      "outputs": [
        {
          "output_type": "stream",
          "text": [
            "10\n"
          ],
          "name": "stdout"
        }
      ]
    },
    {
      "cell_type": "markdown",
      "metadata": {
        "id": "PY0YTmARhpM-",
        "colab_type": "text"
      },
      "source": [
        "**LINEAR KERNEL**"
      ]
    },
    {
      "cell_type": "code",
      "metadata": {
        "id": "g3cb3j9JMtJS",
        "colab_type": "code",
        "outputId": "bc5468bc-7395-4310-cea2-d7cb70e56c8e",
        "colab": {
          "base_uri": "https://localhost:8080/",
          "height": 51
        }
      },
      "source": [
        "%%time\n",
        "\n",
        "model = SVC(C=10, kernel=\"linear\", random_state=241)\n",
        "model.fit(X_train, y_train.ravel()) "
      ],
      "execution_count": 0,
      "outputs": [
        {
          "output_type": "stream",
          "text": [
            "CPU times: user 38min 53s, sys: 0 ns, total: 38min 53s\n",
            "Wall time: 38min 55s\n"
          ],
          "name": "stdout"
        }
      ]
    },
    {
      "cell_type": "code",
      "metadata": {
        "id": "YivC-o4ZMtJY",
        "colab_type": "code",
        "colab": {}
      },
      "source": [
        "from sklearn import metrics\n",
        "import matplotlib.pyplot as plt"
      ],
      "execution_count": 0,
      "outputs": []
    },
    {
      "cell_type": "code",
      "metadata": {
        "id": "DXh0RAHnHwM9",
        "colab_type": "code",
        "colab": {}
      },
      "source": [
        "y_pred = model.predict(X_test)"
      ],
      "execution_count": 0,
      "outputs": []
    },
    {
      "cell_type": "code",
      "metadata": {
        "id": "Y0pg7r8NTeUj",
        "colab_type": "code",
        "outputId": "25882002-16ef-4d42-871f-fd8c50413e5b",
        "colab": {
          "base_uri": "https://localhost:8080/",
          "height": 34
        }
      },
      "source": [
        "metrics.precision_score(y_test, y_pred)"
      ],
      "execution_count": 0,
      "outputs": [
        {
          "output_type": "execute_result",
          "data": {
            "text/plain": [
              "0.9941540577716643"
            ]
          },
          "metadata": {
            "tags": []
          },
          "execution_count": 23
        }
      ]
    },
    {
      "cell_type": "code",
      "metadata": {
        "id": "j3kpPAdBV68M",
        "colab_type": "code",
        "outputId": "14e12d91-9b10-4fae-c36c-72c20cd6a867",
        "colab": {
          "base_uri": "https://localhost:8080/",
          "height": 296
        }
      },
      "source": [
        "metrics.plot_confusion_matrix(model, X_test, y_test)"
      ],
      "execution_count": 0,
      "outputs": [
        {
          "output_type": "execute_result",
          "data": {
            "text/plain": [
              "<sklearn.metrics._plot.confusion_matrix.ConfusionMatrixDisplay at 0x7f5d482635c0>"
            ]
          },
          "metadata": {
            "tags": []
          },
          "execution_count": 36
        },
        {
          "output_type": "display_data",
          "data": {
            "image/png": "[encoded data removed]",
            "text/plain": [
              "<Figure size 432x288 with 2 Axes>"
            ]
          },
          "metadata": {
            "tags": [],
            "needs_background": "light"
          }
        }
      ]
    },
    {
      "cell_type": "code",
      "metadata": {
        "id": "BBJ414ZaWr3Y",
        "colab_type": "code",
        "outputId": "830e1644-985d-4db8-d06c-7bf080da26b6",
        "colab": {
          "base_uri": "https://localhost:8080/",
          "height": 34
        }
      },
      "source": [
        "metrics.f1_score(y_test, y_pred)"
      ],
      "execution_count": 0,
      "outputs": [
        {
          "output_type": "execute_result",
          "data": {
            "text/plain": [
              "0.984882681088447"
            ]
          },
          "metadata": {
            "tags": []
          },
          "execution_count": 31
        }
      ]
    },
    {
      "cell_type": "markdown",
      "metadata": {
        "id": "bqbjA02Ehsqn",
        "colab_type": "text"
      },
      "source": [
        "**RBF KERNEL**"
      ]
    },
    {
      "cell_type": "code",
      "metadata": {
        "id": "Hcb4JLZnW3iH",
        "colab_type": "code",
        "outputId": "7f0e4bfb-517c-46ec-ca6b-8c4a1c65218d",
        "colab": {
          "base_uri": "https://localhost:8080/",
          "height": 51
        }
      },
      "source": [
        "%%time\n",
        "\n",
        "model = SVC(C=10, kernel=\"rbf\", random_state=241)\n",
        "model.fit(X_train, y_train.ravel()) "
      ],
      "execution_count": 37,
      "outputs": [
        {
          "output_type": "stream",
          "text": [
            "CPU times: user 1h 58min 38s, sys: 0 ns, total: 1h 58min 38s\n",
            "Wall time: 1h 58min 44s\n"
          ],
          "name": "stdout"
        }
      ]
    },
    {
      "cell_type": "code",
      "metadata": {
        "id": "uXAAbUwuh5rX",
        "colab_type": "code",
        "colab": {}
      },
      "source": [
        "y_pred = model.predict(X_test)"
      ],
      "execution_count": 0,
      "outputs": []
    },
    {
      "cell_type": "code",
      "metadata": {
        "id": "DXWjihQ6h6Jv",
        "colab_type": "code",
        "colab": {
          "base_uri": "https://localhost:8080/",
          "height": 34
        },
        "outputId": "28dbc0cb-6c4c-43cc-de4a-9a514b62bb73"
      },
      "source": [
        "metrics.precision_score(y_test, y_pred)"
      ],
      "execution_count": 40,
      "outputs": [
        {
          "output_type": "execute_result",
          "data": {
            "text/plain": [
              "0.9948610748192667"
            ]
          },
          "metadata": {
            "tags": []
          },
          "execution_count": 40
        }
      ]
    },
    {
      "cell_type": "code",
      "metadata": {
        "id": "HqwD9GmAh8XX",
        "colab_type": "code",
        "colab": {
          "base_uri": "https://localhost:8080/",
          "height": 296
        },
        "outputId": "945b9758-019d-4a67-9491-6c2304cebb96"
      },
      "source": [
        "metrics.plot_confusion_matrix(model, X_test, y_test)"
      ],
      "execution_count": 41,
      "outputs": [
        {
          "output_type": "execute_result",
          "data": {
            "text/plain": [
              "<sklearn.metrics._plot.confusion_matrix.ConfusionMatrixDisplay at 0x7f5d4c2d3cc0>"
            ]
          },
          "metadata": {
            "tags": []
          },
          "execution_count": 41
        },
        {
          "output_type": "display_data",
          "data": {
            "image/png": "[encoded data removed]",
            "text/plain": [
              "<Figure size 432x288 with 2 Axes>"
            ]
          },
          "metadata": {
            "tags": [],
            "needs_background": "light"
          }
        }
      ]
    },
    {
      "cell_type": "code",
      "metadata": {
        "id": "8Ug2Z756h92Z",
        "colab_type": "code",
        "colab": {
          "base_uri": "https://localhost:8080/",
          "height": 34
        },
        "outputId": "ad3a4a65-95d4-4ce0-e509-91890bffbd37"
      },
      "source": [
        "metrics.f1_score(y_test, y_pred)"
      ],
      "execution_count": 42,
      "outputs": [
        {
          "output_type": "execute_result",
          "data": {
            "text/plain": [
              "0.9790845191153781"
            ]
          },
          "metadata": {
            "tags": []
          },
          "execution_count": 42
        }
      ]
    },
    {
      "cell_type": "code",
      "metadata": {
        "id": "tEUxZXh4h-1L",
        "colab_type": "code",
        "colab": {}
      },
      "source": [
        ""
      ],
      "execution_count": 0,
      "outputs": []
    }
  ]
}