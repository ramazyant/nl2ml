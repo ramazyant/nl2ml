{
 "cells": [
  {
   "cell_type": "code",
   "execution_count": 32,
   "metadata": {},
   "outputs": [],
   "source": [
    "import pandas as pd\n",
    "import numpy as np\n",
    "from sklearn.feature_extraction.text import TfidfVectorizer\n",
    "from sklearn.model_selection import train_test_split, GridSearchCV\n",
    "from sklearn.naive_bayes import MultinomialNB\n",
    "from sklearn import metrics"
   ]
  },
  {
   "cell_type": "code",
   "execution_count": 50,
   "metadata": {},
   "outputs": [
    {
     "data": {
      "text/html": [
       "<div>\n",
       "<style scoped>\n",
       "    .dataframe tbody tr th:only-of-type {\n",
       "        vertical-align: middle;\n",
       "    }\n",
       "\n",
       "    .dataframe tbody tr th {\n",
       "        vertical-align: top;\n",
       "    }\n",
       "\n",
       "    .dataframe thead th {\n",
       "        text-align: right;\n",
       "    }\n",
       "</style>\n",
       "<table border=\"1\" class=\"dataframe\">\n",
       "  <thead>\n",
       "    <tr style=\"text-align: right;\">\n",
       "      <th></th>\n",
       "      <th>Code</th>\n",
       "      <th>Input</th>\n",
       "      <th>Output</th>\n",
       "      <th>Description</th>\n",
       "      <th>Data format</th>\n",
       "      <th>Source</th>\n",
       "      <th>Library</th>\n",
       "      <th>Wiki</th>\n",
       "      <th>Tags</th>\n",
       "    </tr>\n",
       "  </thead>\n",
       "  <tbody>\n",
       "    <tr>\n",
       "      <td>0</td>\n",
       "      <td>for dataset in full_data:\\n    dataset['Embark...</td>\n",
       "      <td>df</td>\n",
       "      <td>df</td>\n",
       "      <td>Remove all NULL values in the Embarked column</td>\n",
       "      <td>Table</td>\n",
       "      <td>kaggle</td>\n",
       "      <td>pandas</td>\n",
       "      <td>https://en.wikipedia.org/wiki/Missing_data\\n\\n...</td>\n",
       "      <td>fill_nf</td>\n",
       "    </tr>\n",
       "    <tr>\n",
       "      <td>1</td>\n",
       "      <td>for dataset in data_cleaner:\\n        dataset[...</td>\n",
       "      <td>df</td>\n",
       "      <td>df</td>\n",
       "      <td>complete missing age with median</td>\n",
       "      <td>Table</td>\n",
       "      <td>kaggle</td>\n",
       "      <td>pandas</td>\n",
       "      <td>https://en.wikipedia.org/wiki/Missing_data\\nht...</td>\n",
       "      <td>fill_median</td>\n",
       "    </tr>\n",
       "    <tr>\n",
       "      <td>2</td>\n",
       "      <td>label = LabelEncoder()\\nfor dataset in data_cl...</td>\n",
       "      <td>df</td>\n",
       "      <td>df</td>\n",
       "      <td>encode categorical data</td>\n",
       "      <td>Table</td>\n",
       "      <td>kaggle</td>\n",
       "      <td>sklearn</td>\n",
       "      <td>https://en.wikipedia.org/wiki/Categorical_vari...</td>\n",
       "      <td>encode_label</td>\n",
       "    </tr>\n",
       "    <tr>\n",
       "      <td>3</td>\n",
       "      <td>for dataset in combine:\\n    dataset['Title'] ...</td>\n",
       "      <td>df</td>\n",
       "      <td>df</td>\n",
       "      <td>We can replace many titles with a more common ...</td>\n",
       "      <td>Table</td>\n",
       "      <td>kaggle</td>\n",
       "      <td>pandas</td>\n",
       "      <td>https://en.wikipedia.org/wiki/Categorical_vari...</td>\n",
       "      <td>spelling_correction</td>\n",
       "    </tr>\n",
       "    <tr>\n",
       "      <td>4</td>\n",
       "      <td>title_mapping = {\"Mr\": 1, \"Miss\": 2, \"Mrs\": 3,...</td>\n",
       "      <td>df</td>\n",
       "      <td>df</td>\n",
       "      <td>We can convert the categorical titles to ordinal</td>\n",
       "      <td>Table</td>\n",
       "      <td>kaggle</td>\n",
       "      <td>pandas</td>\n",
       "      <td>https://en.wikipedia.org/wiki/Categorical_vari...</td>\n",
       "      <td>fill_nf</td>\n",
       "    </tr>\n",
       "  </tbody>\n",
       "</table>\n",
       "</div>"
      ],
      "text/plain": [
       "                                                Code Input Output  \\\n",
       "0  for dataset in full_data:\\n    dataset['Embark...    df     df   \n",
       "1  for dataset in data_cleaner:\\n        dataset[...    df     df   \n",
       "2  label = LabelEncoder()\\nfor dataset in data_cl...    df     df   \n",
       "3  for dataset in combine:\\n    dataset['Title'] ...    df     df   \n",
       "4  title_mapping = {\"Mr\": 1, \"Miss\": 2, \"Mrs\": 3,...    df     df   \n",
       "\n",
       "                                         Description Data format  Source  \\\n",
       "0      Remove all NULL values in the Embarked column       Table  kaggle   \n",
       "1                   complete missing age with median       Table  kaggle   \n",
       "2                            encode categorical data       Table  kaggle   \n",
       "3  We can replace many titles with a more common ...       Table  kaggle   \n",
       "4   We can convert the categorical titles to ordinal       Table  kaggle   \n",
       "\n",
       "   Library                                               Wiki  \\\n",
       "0   pandas  https://en.wikipedia.org/wiki/Missing_data\\n\\n...   \n",
       "1   pandas  https://en.wikipedia.org/wiki/Missing_data\\nht...   \n",
       "2  sklearn  https://en.wikipedia.org/wiki/Categorical_vari...   \n",
       "3   pandas  https://en.wikipedia.org/wiki/Categorical_vari...   \n",
       "4   pandas  https://en.wikipedia.org/wiki/Categorical_vari...   \n",
       "\n",
       "                  Tags  \n",
       "0              fill_nf  \n",
       "1          fill_median  \n",
       "2         encode_label  \n",
       "3  spelling_correction  \n",
       "4              fill_nf  "
      ]
     },
     "execution_count": 50,
     "metadata": {},
     "output_type": "execute_result"
    }
   ],
   "source": [
    "df = pd.read_csv('~/Desktop/preprocessing.csv')\n",
    "df.head()"
   ]
  },
  {
   "cell_type": "code",
   "execution_count": 51,
   "metadata": {},
   "outputs": [
    {
     "data": {
      "text/plain": [
       "(413, 9)"
      ]
     },
     "execution_count": 51,
     "metadata": {},
     "output_type": "execute_result"
    }
   ],
   "source": [
    "df.shape"
   ]
  },
  {
   "cell_type": "code",
   "execution_count": 52,
   "metadata": {},
   "outputs": [],
   "source": [
    "df.dropna(subset=['Code', 'Tags'], inplace=True)\n",
    "df.reset_index(inplace=True)"
   ]
  },
  {
   "cell_type": "code",
   "execution_count": 53,
   "metadata": {},
   "outputs": [],
   "source": [
    "X = df['Code']\n",
    "y = df['Tags']"
   ]
  },
  {
   "cell_type": "code",
   "execution_count": 54,
   "metadata": {},
   "outputs": [],
   "source": [
    "vectorizer = TfidfVectorizer(ngram_range=(1, 2), smooth_idf=True)\n",
    "X = vectorizer.fit_transform(X.values.astype('str'))\n",
    "X_train, X_test, y_train, y_test = train_test_split(X, y, test_size=0.3)"
   ]
  },
  {
   "cell_type": "code",
   "execution_count": 55,
   "metadata": {},
   "outputs": [
    {
     "name": "stdout",
     "output_type": "stream",
     "text": [
      "CPU times: user 61.3 ms, sys: 35.1 ms, total: 96.4 ms\n",
      "Wall time: 79.1 ms\n"
     ]
    }
   ],
   "source": [
    "%%time\n",
    "\n",
    "model = MultinomialNB().fit(X_train, y_train)"
   ]
  },
  {
   "cell_type": "code",
   "execution_count": 56,
   "metadata": {},
   "outputs": [],
   "source": [
    "y_pred = model.predict(X_test)"
   ]
  },
  {
   "cell_type": "code",
   "execution_count": 57,
   "metadata": {},
   "outputs": [
    {
     "data": {
      "text/plain": [
       "0.21666666666666667"
      ]
     },
     "execution_count": 57,
     "metadata": {},
     "output_type": "execute_result"
    }
   ],
   "source": [
    "np.mean(y_test == y_pred)"
   ]
  }
 ],
 "metadata": {
  "kernelspec": {
   "display_name": "Python 3",
   "language": "python",
   "name": "python3"
  },
  "language_info": {
   "codemirror_mode": {
    "name": "ipython",
    "version": 3
   },
   "file_extension": ".py",
   "mimetype": "text/x-python",
   "name": "python",
   "nbconvert_exporter": "python",
   "pygments_lexer": "ipython3",
   "version": "3.7.4"
  }
 },
 "nbformat": 4,
 "nbformat_minor": 2
}
