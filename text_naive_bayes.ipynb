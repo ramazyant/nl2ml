{
 "cells": [
  {
   "cell_type": "code",
   "execution_count": 1,
   "metadata": {},
   "outputs": [],
   "source": [
    "import pandas as pd\n",
    "import numpy as np\n",
    "from sklearn.feature_extraction.text import TfidfVectorizer\n",
    "from sklearn.model_selection import train_test_split, GridSearchCV\n",
    "from sklearn.naive_bayes import MultinomialNB\n",
    "from sklearn import metrics"
   ]
  },
  {
   "cell_type": "code",
   "execution_count": 2,
   "metadata": {},
   "outputs": [
    {
     "data": {
      "text/html": [
       "<div>\n",
       "<style scoped>\n",
       "    .dataframe tbody tr th:only-of-type {\n",
       "        vertical-align: middle;\n",
       "    }\n",
       "\n",
       "    .dataframe tbody tr th {\n",
       "        vertical-align: top;\n",
       "    }\n",
       "\n",
       "    .dataframe thead th {\n",
       "        text-align: right;\n",
       "    }\n",
       "</style>\n",
       "<table border=\"1\" class=\"dataframe\">\n",
       "  <thead>\n",
       "    <tr style=\"text-align: right;\">\n",
       "      <th></th>\n",
       "      <th>Code</th>\n",
       "      <th>Input</th>\n",
       "      <th>Output</th>\n",
       "      <th>Description</th>\n",
       "      <th>Data format</th>\n",
       "      <th>Source</th>\n",
       "      <th>Library</th>\n",
       "      <th>Wiki</th>\n",
       "      <th>tags</th>\n",
       "      <th>Unnamed: 9</th>\n",
       "      <th>Unnamed: 10</th>\n",
       "      <th>Unnamed: 11</th>\n",
       "    </tr>\n",
       "  </thead>\n",
       "  <tbody>\n",
       "    <tr>\n",
       "      <td>0</td>\n",
       "      <td>df['word_count'] = df['column_name'].apply(lam...</td>\n",
       "      <td>df</td>\n",
       "      <td>df</td>\n",
       "      <td>counts the number of words splitted by space (...</td>\n",
       "      <td>text</td>\n",
       "      <td>analytics vidhya</td>\n",
       "      <td>NaN</td>\n",
       "      <td>NaN</td>\n",
       "      <td>count_word</td>\n",
       "      <td>NaN</td>\n",
       "      <td>NaN</td>\n",
       "      <td>NaN</td>\n",
       "    </tr>\n",
       "    <tr>\n",
       "      <td>1</td>\n",
       "      <td>def word_count(text):\\n    return len(str(x).s...</td>\n",
       "      <td>df</td>\n",
       "      <td>df</td>\n",
       "      <td>counts the number of words splitted by space (...</td>\n",
       "      <td>text</td>\n",
       "      <td>analytics vidhya</td>\n",
       "      <td>NaN</td>\n",
       "      <td>NaN</td>\n",
       "      <td>count_word</td>\n",
       "      <td>NaN</td>\n",
       "      <td>NaN</td>\n",
       "      <td>NaN</td>\n",
       "    </tr>\n",
       "    <tr>\n",
       "      <td>2</td>\n",
       "      <td>def word_count(text):\\n    return len(str(x).s...</td>\n",
       "      <td>df</td>\n",
       "      <td>df</td>\n",
       "      <td>counts the number of words splitted by space (...</td>\n",
       "      <td>text</td>\n",
       "      <td>analytics vidhya</td>\n",
       "      <td>NaN</td>\n",
       "      <td>NaN</td>\n",
       "      <td>count_word</td>\n",
       "      <td>NaN</td>\n",
       "      <td>NaN</td>\n",
       "      <td>NaN</td>\n",
       "    </tr>\n",
       "    <tr>\n",
       "      <td>3</td>\n",
       "      <td>df['char_count'] = df['column_name'].str.len()</td>\n",
       "      <td>df</td>\n",
       "      <td>df</td>\n",
       "      <td>counts the number of chars; this also includes...</td>\n",
       "      <td>text</td>\n",
       "      <td>analytics vidhya</td>\n",
       "      <td>NaN</td>\n",
       "      <td>NaN</td>\n",
       "      <td>count_char</td>\n",
       "      <td>NaN</td>\n",
       "      <td>NaN</td>\n",
       "      <td>NaN</td>\n",
       "    </tr>\n",
       "    <tr>\n",
       "      <td>4</td>\n",
       "      <td>def char_count(text):\\n    return text.str.len...</td>\n",
       "      <td>df</td>\n",
       "      <td>df</td>\n",
       "      <td>counts the number of chars; this also includes...</td>\n",
       "      <td>text</td>\n",
       "      <td>analytics vidhya</td>\n",
       "      <td>NaN</td>\n",
       "      <td>NaN</td>\n",
       "      <td>count_char</td>\n",
       "      <td>NaN</td>\n",
       "      <td>NaN</td>\n",
       "      <td>NaN</td>\n",
       "    </tr>\n",
       "  </tbody>\n",
       "</table>\n",
       "</div>"
      ],
      "text/plain": [
       "                                                Code Input Output  \\\n",
       "0  df['word_count'] = df['column_name'].apply(lam...    df     df   \n",
       "1  def word_count(text):\\n    return len(str(x).s...    df     df   \n",
       "2  def word_count(text):\\n    return len(str(x).s...    df     df   \n",
       "3     df['char_count'] = df['column_name'].str.len()    df     df   \n",
       "4  def char_count(text):\\n    return text.str.len...    df     df   \n",
       "\n",
       "                                         Description Data format  \\\n",
       "0  counts the number of words splitted by space (...        text   \n",
       "1  counts the number of words splitted by space (...        text   \n",
       "2  counts the number of words splitted by space (...        text   \n",
       "3  counts the number of chars; this also includes...        text   \n",
       "4  counts the number of chars; this also includes...        text   \n",
       "\n",
       "             Source Library Wiki        tags  Unnamed: 9  Unnamed: 10  \\\n",
       "0  analytics vidhya     NaN  NaN  count_word         NaN          NaN   \n",
       "1  analytics vidhya     NaN  NaN  count_word         NaN          NaN   \n",
       "2  analytics vidhya     NaN  NaN  count_word         NaN          NaN   \n",
       "3  analytics vidhya     NaN  NaN  count_char         NaN          NaN   \n",
       "4  analytics vidhya     NaN  NaN  count_char         NaN          NaN   \n",
       "\n",
       "  Unnamed: 11  \n",
       "0         NaN  \n",
       "1         NaN  \n",
       "2         NaN  \n",
       "3         NaN  \n",
       "4         NaN  "
      ]
     },
     "execution_count": 2,
     "metadata": {},
     "output_type": "execute_result"
    }
   ],
   "source": [
    "df = pd.read_csv('~/Desktop/text.csv')\n",
    "df.head()"
   ]
  },
  {
   "cell_type": "code",
   "execution_count": 3,
   "metadata": {},
   "outputs": [
    {
     "data": {
      "text/plain": [
       "(154, 12)"
      ]
     },
     "execution_count": 3,
     "metadata": {},
     "output_type": "execute_result"
    }
   ],
   "source": [
    "df.shape"
   ]
  },
  {
   "cell_type": "code",
   "execution_count": 4,
   "metadata": {},
   "outputs": [],
   "source": [
    "X = df['Code']\n",
    "y = df['tags']"
   ]
  },
  {
   "cell_type": "code",
   "execution_count": 5,
   "metadata": {},
   "outputs": [],
   "source": [
    "vectorizer = TfidfVectorizer(ngram_range=(1, 2), smooth_idf=True)\n",
    "X = vectorizer.fit_transform(X)\n",
    "X_train, X_test, y_train, y_test = train_test_split(X, y, test_size=0.3)"
   ]
  },
  {
   "cell_type": "code",
   "execution_count": 6,
   "metadata": {},
   "outputs": [
    {
     "name": "stdout",
     "output_type": "stream",
     "text": [
      "CPU times: user 11 ms, sys: 4.89 ms, total: 15.9 ms\n",
      "Wall time: 15.9 ms\n"
     ]
    }
   ],
   "source": [
    "%%time\n",
    "\n",
    "model = MultinomialNB().fit(X_train, y_train)"
   ]
  },
  {
   "cell_type": "code",
   "execution_count": 7,
   "metadata": {},
   "outputs": [],
   "source": [
    "y_pred = model.predict(X_test)"
   ]
  },
  {
   "cell_type": "code",
   "execution_count": 8,
   "metadata": {},
   "outputs": [
    {
     "data": {
      "text/plain": [
       "0.1276595744680851"
      ]
     },
     "execution_count": 8,
     "metadata": {},
     "output_type": "execute_result"
    }
   ],
   "source": [
    "np.mean(y_test == y_pred)"
   ]
  }
 ],
 "metadata": {
  "kernelspec": {
   "display_name": "Python 3",
   "language": "python",
   "name": "python3"
  },
  "language_info": {
   "codemirror_mode": {
    "name": "ipython",
    "version": 3
   },
   "file_extension": ".py",
   "mimetype": "text/x-python",
   "name": "python",
   "nbconvert_exporter": "python",
   "pygments_lexer": "ipython3",
   "version": "3.7.4"
  }
 },
 "nbformat": 4,
 "nbformat_minor": 2
}
