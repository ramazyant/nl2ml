{
  "nbformat": 4,
  "nbformat_minor": 0,
  "metadata": {
    "kernelspec": {
      "display_name": "Python 3",
      "language": "python",
      "name": "python3"
    },
    "language_info": {
      "codemirror_mode": {
        "name": "ipython",
        "version": 3
      },
      "file_extension": ".py",
      "mimetype": "text/x-python",
      "name": "python",
      "nbconvert_exporter": "python",
      "pygments_lexer": "ipython3",
      "version": "3.7.4"
    },
    "colab": {
      "name": "svc.ipynb",
      "provenance": [],
      "collapsed_sections": []
    },
    "accelerator": "TPU"
  },
  "cells": [
    {
      "cell_type": "code",
      "metadata": {
        "id": "RGwxBtR_wDMN",
        "colab_type": "code",
        "outputId": "4b674a25-fefc-4724-e43a-cc15ccb98758",
        "colab": {
          "base_uri": "https://localhost:8080/",
          "height": 122
        }
      },
      "source": [
        "from google.colab import drive\n",
        "drive.mount('/content/drive')"
      ],
      "execution_count": 0,
      "outputs": [
        {
          "output_type": "stream",
          "text": [
            "Go to this URL in a browser: https://accounts.google.com/o/oauth2/auth?client_id=947318989803-6bn6qk8qdgf4n4g3pfee6491hc0brc4i.apps.googleusercontent.com&redirect_uri=urn%3aietf%3awg%3aoauth%3a2.0%3aoob&response_type=code&scope=email%20https%3a%2f%2fwww.googleapis.com%2fauth%2fdocs.test%20https%3a%2f%2fwww.googleapis.com%2fauth%2fdrive%20https%3a%2f%2fwww.googleapis.com%2fauth%2fdrive.photos.readonly%20https%3a%2f%2fwww.googleapis.com%2fauth%2fpeopleapi.readonly\n",
            "\n",
            "Enter your authorization code:\n",
            "··········\n",
            "Mounted at /content/drive\n"
          ],
          "name": "stdout"
        }
      ]
    },
    {
      "cell_type": "code",
      "metadata": {
        "id": "bjUa4DGTMtHz",
        "colab_type": "code",
        "colab": {}
      },
      "source": [
        "import pandas as pd\n",
        "import re\n",
        "from nltk.tokenize import RegexpTokenizer\n",
        "import numpy as np"
      ],
      "execution_count": 0,
      "outputs": []
    },
    {
      "cell_type": "code",
      "metadata": {
        "id": "f4SxVoVfMtIG",
        "colab_type": "code",
        "outputId": "9642b55a-7f24-49e3-fbc0-8126f5c10c11",
        "colab": {
          "base_uri": "https://localhost:8080/",
          "height": 51
        }
      },
      "source": [
        "%%time\n",
        "\n",
        "df = pd.read_csv('/content/drive/My Drive/code_blocks.csv', sep='\\t', delimiter='\\t',\n",
        "                 encoding='utf-8', error_bad_lines=False, engine='python')"
      ],
      "execution_count": 24,
      "outputs": [
        {
          "output_type": "stream",
          "text": [
            "CPU times: user 4.08 s, sys: 162 ms, total: 4.24 s\n",
            "Wall time: 5.19 s\n"
          ],
          "name": "stdout"
        }
      ]
    },
    {
      "cell_type": "code",
      "metadata": {
        "id": "PtZRDYGb8uGg",
        "colab_type": "code",
        "outputId": "6ab9edb5-c448-4d86-ba3d-0452815f791f",
        "colab": {
          "base_uri": "https://localhost:8080/",
          "height": 34
        }
      },
      "source": [
        "print(df.shape)"
      ],
      "execution_count": 25,
      "outputs": [
        {
          "output_type": "stream",
          "text": [
            "(213535, 2)\n"
          ],
          "name": "stdout"
        }
      ]
    },
    {
      "cell_type": "markdown",
      "metadata": {
        "id": "Kvb67vs4MtIP",
        "colab_type": "text"
      },
      "source": [
        "**Tokenization Type 1**"
      ]
    },
    {
      "cell_type": "code",
      "metadata": {
        "id": "QJ2g40OXMtIS",
        "colab_type": "code",
        "colab": {}
      },
      "source": [
        "# %%time\n",
        "\n",
        "# tokenizer = RegexpTokenizer(r'\\w+|\\$[\\d\\.]+|\\S+')\n",
        "\n",
        "# df['code_block'] = df['code_block'].apply(lambda x: tokenizer.tokenize(x))"
      ],
      "execution_count": 0,
      "outputs": []
    },
    {
      "cell_type": "code",
      "metadata": {
        "id": "vIKKCkVUMtIg",
        "colab_type": "code",
        "colab": {}
      },
      "source": [
        "tokens_io = ['read', 'csv' , 'sql' , 'json' , 'png' , 'jpg' ,\n",
        "          'tsv' , 'write' , 'open' , 'print' , 'output' ,\n",
        "          'stdin' , 'stdout' , 'path' , 'dir']\n",
        "tokens_vis = ['plot', 'hist', 'sns.', 'plt.', 'histogram',\n",
        "                        'chart', 'diagram', 'graph', 'draw', 'plotline']"
      ],
      "execution_count": 0,
      "outputs": []
    },
    {
      "cell_type": "code",
      "metadata": {
        "id": "PZ-3q2afMtIm",
        "colab_type": "code",
        "colab": {}
      },
      "source": [
        "def tokens_search(df, tokens, new_column_name):\n",
        "    df[new_column_name] = 0\n",
        "    for i in range(len(df)):\n",
        "        percents = str(round(100*i/len(df),1))\n",
        "        print(percents + '%\\r', end='')\n",
        "        for token in tokens:\n",
        "            if token in df['code_block'][i]:\n",
        "                df[new_column_name][i] = 1\n",
        "                break\n",
        "    return df"
      ],
      "execution_count": 0,
      "outputs": []
    },
    {
      "cell_type": "code",
      "metadata": {
        "id": "DAyIjla3MtIt",
        "colab_type": "code",
        "outputId": "a3a8b71c-174c-4c47-f7d1-cc638902e071",
        "colab": {
          "base_uri": "https://localhost:8080/",
          "height": 173
        }
      },
      "source": [
        "%%time\n",
        "\n",
        "df = tokens_search(df, tokens_io, 'tag_io')\n",
        "print(len(df))"
      ],
      "execution_count": 29,
      "outputs": [
        {
          "output_type": "stream",
          "text": [
            "0.0%\r0.0%\r0.0%\r0.0%\r0.0%\r0.0%\r0.0%\r0.0%\r0.0%\r0.0%\r0.0%\r0.0%\r0.0%\r0.0%\r0.0%\r0.0%\r0.0%\r0.0%\r0.0%\r0.0%\r0.0%\r0.0%\r0.0%\r0.0%\r0.0%\r0.0%\r0.0%\r0.0%\r0.0%\r0.0%\r0.0%\r0.0%\r0.0%\r0.0%\r0.0%\r0.0%\r0.0%\r0.0%\r0.0%\r0.0%\r0.0%\r0.0%\r0.0%\r0.0%\r0.0%\r0.0%\r0.0%\r0.0%\r0.0%\r0.0%\r0.0%\r0.0%\r0.0%\r0.0%\r0.0%\r0.0%\r0.0%\r0.0%\r0.0%\r0.0%\r0.0%\r0.0%\r0.0%\r0.0%\r0.0%\r0.0%\r0.0%\r0.0%\r0.0%\r0.0%\r0.0%\r0.0%\r0.0%\r0.0%\r0.0%\r0.0%\r0.0%\r0.0%\r0.0%\r0.0%\r0.0%\r0.0%\r0.0%\r0.0%\r0.0%\r0.0%\r0.0%\r0.0%\r0.0%\r0.0%\r0.0%\r0.0%\r0.0%\r0.0%\r0.0%\r0.0%\r0.0%\r0.0%\r0.0%\r0.0%\r0.0%\r0.0%\r0.0%\r0.0%\r0.0%\r0.0%\r0.0%\r0.1%\r0.1%\r0.1%\r0.1%\r0.1%\r0.1%\r0.1%\r0.1%\r0.1%\r0.1%\r0.1%\r0.1%\r0.1%\r0.1%\r0.1%\r0.1%\r0.1%\r0.1%\r0.1%\r0.1%\r0.1%\r0.1%\r0.1%\r0.1%\r0.1%\r0.1%\r0.1%\r0.1%\r0.1%\r0.1%\r0.1%\r0.1%\r0.1%\r0.1%\r0.1%\r0.1%\r0.1%\r0.1%\r0.1%\r0.1%\r0.1%\r0.1%\r0.1%\r0.1%\r0.1%\r0.1%\r0.1%\r0.1%\r0.1%\r0.1%\r0.1%\r0.1%\r0.1%\r0.1%\r0.1%\r0.1%\r0.1%\r0.1%\r0.1%\r0.1%\r0.1%\r0.1%\r0.1%\r0.1%\r0.1%\r0.1%\r0.1%\r0.1%\r0.1%\r0.1%\r0.1%\r0.1%\r0.1%\r0.1%\r0.1%\r0.1%\r0.1%\r0.1%\r0.1%\r0.1%\r0.1%\r0.1%\r0.1%\r0.1%\r0.1%\r0.1%\r0.1%\r0.1%\r0.1%\r0.1%\r0.1%\r0.1%\r0.1%\r0.1%\r0.1%\r0.1%\r0.1%\r0.1%\r0.1%\r0.1%\r0.1%\r0.1%\r0.1%\r0.1%\r0.1%\r0.1%\r0.1%\r0.1%\r0.1%\r0.1%\r0.1%\r0.1%\r0.1%\r0.1%\r0.1%\r0.1%\r0.1%\r0.1%\r0.1%\r0.1%\r0.1%\r0.1%\r0.1%\r0.1%\r0.1%\r0.1%\r0.1%\r0.1%\r0.1%\r0.1%\r0.1%\r0.1%\r0.1%\r0.1%\r0.1%\r0.1%\r0.1%\r0.1%\r0.1%\r0.1%\r0.1%\r0.1%\r0.1%\r0.1%\r0.1%\r0.1%\r0.1%\r0.1%\r0.1%\r0.1%\r0.1%\r0.1%\r0.1%\r0.1%\r0.1%\r0.1%\r0.1%\r0.1%\r0.1%\r0.1%\r0.1%\r0.1%\r0.1%\r0.1%\r0.1%\r0.1%\r0.1%\r0.1%\r0.1%\r0.1%\r0.1%\r0.1%\r0.1%\r0.1%\r0.1%\r0.1%\r0.1%\r0.1%\r0.1%\r0.1%\r0.1%\r0.1%\r0.1%\r0.1%\r0.1%\r0.1%\r0.1%\r0.1%\r0.1%\r0.1%\r0.1%\r0.1%\r0.1%\r0.1%\r0.1%\r0.1%\r0.1%\r0.1%\r0.1%\r0.1%\r0.1%\r0.1%\r0.1%\r0.1%\r0.1%\r0.1%\r0.1%\r0.1%\r0.1%\r0.1%\r0.1%\r0.1%\r0.1%\r0.1%\r0.2%\r0.2%\r0.2%\r0.2%\r0.2%\r0.2%\r0.2%\r0.2%\r0.2%\r0.2%\r0.2%\r0.2%\r0.2%\r0.2%\r0.2%\r0.2%\r0.2%\r0.2%\r0.2%\r0.2%\r0.2%\r0.2%\r0.2%\r0.2%\r0.2%\r0.2%\r0.2%\r0.2%\r0.2%\r0.2%\r0.2%\r0.2%\r0.2%\r0.2%\r0.2%\r0.2%\r0.2%\r0.2%\r0.2%\r0.2%\r0.2%\r0.2%\r0.2%\r0.2%\r0.2%\r0.2%\r0.2%\r0.2%\r0.2%\r0.2%\r0.2%\r0.2%\r0.2%\r0.2%\r0.2%\r0.2%\r0.2%\r0.2%\r0.2%\r0.2%\r0.2%\r0.2%\r0.2%\r0.2%\r0.2%\r0.2%\r0.2%\r0.2%\r0.2%\r0.2%\r0.2%\r0.2%\r0.2%\r0.2%\r0.2%\r0.2%\r0.2%\r0.2%\r0.2%\r0.2%\r0.2%\r0.2%\r0.2%\r0.2%\r0.2%\r0.2%\r0.2%\r0.2%\r0.2%\r0.2%\r0.2%\r0.2%\r0.2%\r0.2%\r0.2%\r0.2%\r0.2%\r0.2%\r0.2%\r0.2%\r0.2%\r0.2%\r0.2%\r0.2%\r0.2%\r0.2%\r0.2%\r0.2%\r0.2%\r0.2%\r0.2%\r0.2%\r0.2%\r0.2%\r0.2%\r0.2%\r0.2%\r0.2%\r0.2%\r0.2%\r0.2%\r0.2%\r0.2%\r0.2%\r0.2%\r0.2%\r0.2%\r0.2%\r0.2%\r0.2%\r0.2%\r0.2%\r0.2%\r0.2%\r0.2%\r0.2%\r0.2%\r0.2%\r0.2%\r0.2%\r0.2%\r0.2%\r0.2%\r0.2%\r0.2%\r0.2%\r0.2%\r0.2%\r0.2%\r0.2%\r0.2%\r0.2%\r0.2%\r"
          ],
          "name": "stdout"
        },
        {
          "output_type": "stream",
          "text": [
            "/usr/local/lib/python3.6/dist-packages/ipykernel_launcher.py:8: SettingWithCopyWarning: \n",
            "A value is trying to be set on a copy of a slice from a DataFrame\n",
            "\n",
            "See the caveats in the documentation: https://pandas.pydata.org/pandas-docs/stable/user_guide/indexing.html#returning-a-view-versus-a-copy\n",
            "  \n"
          ],
          "name": "stderr"
        },
        {
          "output_type": "stream",
          "text": [
            "213535\n",
            "CPU times: user 1min 25s, sys: 11.5 s, total: 1min 36s\n",
            "Wall time: 1min 23s\n"
          ],
          "name": "stdout"
        }
      ]
    },
    {
      "cell_type": "code",
      "metadata": {
        "id": "mX3iOD712iI7",
        "colab_type": "code",
        "outputId": "b254f271-d13e-43c3-9978-98f0ff65d6a0",
        "colab": {
          "base_uri": "https://localhost:8080/",
          "height": 68
        }
      },
      "source": [
        "df['tag_io'].value_counts()"
      ],
      "execution_count": 30,
      "outputs": [
        {
          "output_type": "execute_result",
          "data": {
            "text/plain": [
              "0    151314\n",
              "1     62221\n",
              "Name: tag_io, dtype: int64"
            ]
          },
          "metadata": {
            "tags": []
          },
          "execution_count": 30
        }
      ]
    },
    {
      "cell_type": "code",
      "metadata": {
        "id": "ihtPCkPRMtI0",
        "colab_type": "code",
        "outputId": "03cafa1f-9684-4374-9c70-14bc6ec99c5f",
        "colab": {
          "base_uri": "https://localhost:8080/",
          "height": 173
        }
      },
      "source": [
        "%%time\n",
        "\n",
        "df = tokens_search(df, tokens_vis, 'tag_vis')\n",
        "print(len(df))"
      ],
      "execution_count": 31,
      "outputs": [
        {
          "output_type": "stream",
          "text": [
            "0.0%\r0.0%\r0.0%\r0.0%\r0.0%\r0.0%\r0.0%\r0.0%\r0.0%\r0.0%\r0.0%\r0.0%\r0.0%\r0.0%\r0.0%\r0.0%\r0.0%\r0.0%\r0.0%\r0.0%\r0.0%\r0.0%\r0.0%\r0.0%\r0.0%\r0.0%\r0.0%\r0.0%\r0.0%\r0.0%\r0.0%\r0.0%\r0.0%\r0.0%\r0.0%\r0.0%\r0.0%\r0.0%\r0.0%\r0.0%\r0.0%\r0.0%\r0.0%\r0.0%\r0.0%\r0.0%\r0.0%\r0.0%\r0.0%\r0.0%\r0.0%\r0.0%\r0.0%\r0.0%\r0.0%\r0.0%\r0.0%\r0.0%\r0.0%\r0.0%\r0.0%\r0.0%\r0.0%\r0.0%\r0.0%\r0.0%\r0.0%\r0.0%\r0.0%\r0.0%\r0.0%\r0.0%\r0.0%\r0.0%\r0.0%\r0.0%\r0.0%\r0.0%\r0.0%\r0.0%\r0.0%\r0.0%\r0.0%\r0.0%\r0.0%\r0.0%\r0.0%\r0.0%\r0.0%\r0.0%\r0.0%\r0.0%\r0.0%\r0.0%\r0.0%\r0.0%\r0.0%\r0.0%\r0.0%\r0.0%\r0.0%\r0.0%\r0.0%\r0.0%\r0.0%\r0.0%\r0.0%\r0.1%\r0.1%\r0.1%\r0.1%\r0.1%\r0.1%\r0.1%\r0.1%\r0.1%\r0.1%\r0.1%\r0.1%\r0.1%\r0.1%\r0.1%\r0.1%\r0.1%\r0.1%\r0.1%\r0.1%\r0.1%\r0.1%\r0.1%\r0.1%\r0.1%\r0.1%\r0.1%\r0.1%\r0.1%\r0.1%\r0.1%\r0.1%\r0.1%\r0.1%\r0.1%\r0.1%\r0.1%\r0.1%\r0.1%\r0.1%\r0.1%\r0.1%\r0.1%\r0.1%\r0.1%\r0.1%\r0.1%\r0.1%\r0.1%\r0.1%\r0.1%\r0.1%\r0.1%\r0.1%\r0.1%\r0.1%\r0.1%\r0.1%\r0.1%\r0.1%\r0.1%\r0.1%\r0.1%\r0.1%\r0.1%\r0.1%\r0.1%\r0.1%\r0.1%\r0.1%\r0.1%\r0.1%\r0.1%\r0.1%\r0.1%\r0.1%\r0.1%\r0.1%\r0.1%\r0.1%\r0.1%\r0.1%\r0.1%\r0.1%\r0.1%\r0.1%\r0.1%\r0.1%\r0.1%\r0.1%\r0.1%\r0.1%\r0.1%\r0.1%\r0.1%\r0.1%\r0.1%\r0.1%\r0.1%\r0.1%\r0.1%\r0.1%\r0.1%\r0.1%\r0.1%\r0.1%\r0.1%\r0.1%\r0.1%\r0.1%\r0.1%\r0.1%\r0.1%\r0.1%\r0.1%\r0.1%\r0.1%\r0.1%\r0.1%\r0.1%\r0.1%\r0.1%\r0.1%\r0.1%\r0.1%\r0.1%\r0.1%\r0.1%\r0.1%\r0.1%\r0.1%\r0.1%\r0.1%\r0.1%\r0.1%\r0.1%\r0.1%\r0.1%\r0.1%\r0.1%\r0.1%\r0.1%\r0.1%\r0.1%\r0.1%\r0.1%\r0.1%\r0.1%\r0.1%\r0.1%\r0.1%\r0.1%\r0.1%\r0.1%\r0.1%\r0.1%\r0.1%\r0.1%\r0.1%\r0.1%\r0.1%\r0.1%\r0.1%\r0.1%\r0.1%\r0.1%\r0.1%\r0.1%\r0.1%\r0.1%\r0.1%\r0.1%\r0.1%\r0.1%\r0.1%\r0.1%\r0.1%\r0.1%\r0.1%\r0.1%\r0.1%\r0.1%\r0.1%\r0.1%\r0.1%\r0.1%\r0.1%\r0.1%\r0.1%\r0.1%\r0.1%\r0.1%\r0.1%\r0.1%\r0.1%\r0.1%\r0.1%\r0.1%\r0.1%\r0.1%\r0.1%\r0.1%\r0.1%\r0.1%\r0.1%\r0.1%\r0.1%\r0.1%\r0.1%\r0.1%\r0.1%\r0.1%\r0.1%\r0.1%\r0.2%\r0.2%\r0.2%\r0.2%\r0.2%\r0.2%\r0.2%\r0.2%\r0.2%\r0.2%\r0.2%\r0.2%\r0.2%\r0.2%\r0.2%\r0.2%\r0.2%\r0.2%\r0.2%\r0.2%\r0.2%\r0.2%\r0.2%\r0.2%\r0.2%\r0.2%\r0.2%\r0.2%\r0.2%\r0.2%\r0.2%\r0.2%\r0.2%\r0.2%\r0.2%\r0.2%\r0.2%\r0.2%\r0.2%\r0.2%\r0.2%\r0.2%\r0.2%\r0.2%\r0.2%\r0.2%\r0.2%\r0.2%\r0.2%\r0.2%\r0.2%\r0.2%\r0.2%\r0.2%\r0.2%\r0.2%\r0.2%\r0.2%\r0.2%\r0.2%\r0.2%\r0.2%\r0.2%\r0.2%\r0.2%\r0.2%\r0.2%\r0.2%\r0.2%\r0.2%\r0.2%\r0.2%\r0.2%\r0.2%\r0.2%\r0.2%\r0.2%\r0.2%\r0.2%\r0.2%\r0.2%\r0.2%\r0.2%\r0.2%\r0.2%\r0.2%\r0.2%\r0.2%\r0.2%\r0.2%\r0.2%\r0.2%\r0.2%\r0.2%\r0.2%\r0.2%\r0.2%\r0.2%\r0.2%\r0.2%\r0.2%\r0.2%\r0.2%\r0.2%\r0.2%\r0.2%\r0.2%\r0.2%\r0.2%\r0.2%\r0.2%\r0.2%\r0.2%\r0.2%\r0.2%\r0.2%\r0.2%\r0.2%\r0.2%\r0.2%\r0.2%\r0.2%\r0.2%\r0.2%\r0.2%\r0.2%\r0.2%\r0.2%\r0.2%\r0.2%\r0.2%\r0.2%\r0.2%\r0.2%\r0.2%\r0.2%\r0.2%\r0.2%\r0.2%\r0.2%\r0.2%\r0.2%\r0.2%\r0.2%\r0.2%\r0.2%\r0.2%\r0.2%\r0.2%\r0.2%\r0.2%\r0.2%\r0.2%\r0.2%\r0.2%\r0.2%\r0.2%\r0.2%\r0.2%\r0.2%\r0.2%\r0.2%\r0.2%\r0.2%\r0.2%\r0.2%\r0.2%\r0.2%\r0.2%\r0.2%\r0.2%\r0.2%\r0.2%\r0.2%\r0.2%\r0.2%\r0.2%\r0.2%\r0.2%\r0.2%\r0.2%\r0.2%\r0.2%\r0.2%\r0.2%\r0.2%\r0.2%\r0.2%\r0.2%\r0.2%\r0.2%\r0.2%\r0.2%\r0.2%\r0.2%\r0.2%\r0.2%\r0.2%\r0.2%\r0.2%\r0.2%\r0.2%\r0.2%\r0.2%\r0.2%\r0.2%\r0.2%\r0.2%\r0.2%\r0.2%\r0.2%\r0.2%\r0.2%\r0.3%\r0.3%\r0.3%\r0.3%\r0.3%\r0.3%\r0.3%\r0.3%\r0.3%\r0.3%\r0.3%\r0.3%\r0.3%\r0.3%\r0.3%\r0.3%\r0.3%\r0.3%\r0.3%\r0.3%\r0.3%\r0.3%\r0.3%\r0.3%\r0.3%\r0.3%\r0.3%\r0.3%\r0.3%\r0.3%\r0.3%\r0.3%\r0.3%\r0.3%\r0.3%\r0.3%\r0.3%\r0.3%\r0.3%\r0.3%\r0.3%\r0.3%\r0.3%\r0.3%\r0.3%\r0.3%\r0.3%\r0.3%\r0.3%\r0.3%\r0.3%\r0.3%\r0.3%\r0.3%\r0.3%\r0.3%\r0.3%\r0.3%\r0.3%\r0.3%\r0.3%\r0.3%\r0.3%\r0.3%\r0.3%\r0.3%\r0.3%\r0.3%\r0.3%\r0.3%\r0.3%\r0.3%\r0.3%\r0.3%\r0.3%\r0.3%\r0.3%\r0.3%\r0.3%\r0.3%\r0.3%\r0.3%\r0.3%\r0.3%\r0.3%\r0.3%\r0.3%\r0.3%\r0.3%\r0.3%\r0.3%\r0.3%\r0.3%\r0.3%\r0.3%\r0.3%\r0.3%\r0.3%\r0.3%\r0.3%\r0.3%\r0.3%\r0.3%\r0.3%\r0.3%\r0.3%\r0.3%\r0.3%\r0.3%\r0.3%\r0.3%\r0.3%\r0.3%\r0.3%\r0.3%\r0.3%\r0.3%\r0.3%\r0.3%\r0.3%\r0.3%\r0.3%\r0.3%\r0.3%\r0.3%\r0.3%\r0.3%\r0.3%\r0.3%\r0.3%\r0.3%\r0.3%\r0.3%\r0.3%\r0.3%\r0.3%\r0.3%\r0.3%\r0.3%\r0.3%\r0.3%\r0.3%\r0.3%\r0.3%\r0.3%\r0.3%\r0.3%\r0.3%\r0.3%\r0.3%\r"
          ],
          "name": "stdout"
        },
        {
          "output_type": "stream",
          "text": [
            "/usr/local/lib/python3.6/dist-packages/ipykernel_launcher.py:8: SettingWithCopyWarning: \n",
            "A value is trying to be set on a copy of a slice from a DataFrame\n",
            "\n",
            "See the caveats in the documentation: https://pandas.pydata.org/pandas-docs/stable/user_guide/indexing.html#returning-a-view-versus-a-copy\n",
            "  \n"
          ],
          "name": "stderr"
        },
        {
          "output_type": "stream",
          "text": [
            "213535\n",
            "CPU times: user 1min 8s, sys: 11.4 s, total: 1min 19s\n",
            "Wall time: 1min 6s\n"
          ],
          "name": "stdout"
        }
      ]
    },
    {
      "cell_type": "code",
      "metadata": {
        "id": "xVPRj3Ny3klh",
        "colab_type": "code",
        "outputId": "6b18b99d-fba8-45ca-b3d4-b5be8d503d1b",
        "colab": {
          "base_uri": "https://localhost:8080/",
          "height": 68
        }
      },
      "source": [
        "df['tag_vis'].value_counts()"
      ],
      "execution_count": 32,
      "outputs": [
        {
          "output_type": "execute_result",
          "data": {
            "text/plain": [
              "0    157578\n",
              "1     55957\n",
              "Name: tag_vis, dtype: int64"
            ]
          },
          "metadata": {
            "tags": []
          },
          "execution_count": 32
        }
      ]
    },
    {
      "cell_type": "markdown",
      "metadata": {
        "id": "bS-T_Q4HMtI7",
        "colab_type": "text"
      },
      "source": [
        "**SVM**"
      ]
    },
    {
      "cell_type": "code",
      "metadata": {
        "id": "jZ816ND9MtI8",
        "colab_type": "code",
        "colab": {}
      },
      "source": [
        "from sklearn.feature_extraction.text import TfidfVectorizer\n",
        "from sklearn.model_selection import KFold, GridSearchCV\n",
        "from sklearn.svm import SVC\n",
        "from sklearn.model_selection import train_test_split\n",
        "\n",
        "%matplotlib inline"
      ],
      "execution_count": 0,
      "outputs": []
    },
    {
      "cell_type": "code",
      "metadata": {
        "id": "8E4UOMk3MtJE",
        "colab_type": "code",
        "colab": {}
      },
      "source": [
        "X = df['code_block']\n",
        "y = df['tag_io']"
      ],
      "execution_count": 0,
      "outputs": []
    },
    {
      "cell_type": "code",
      "metadata": {
        "id": "lFXh9IZ4lrX0",
        "colab_type": "code",
        "colab": {}
      },
      "source": [
        "vectorizer = TfidfVectorizer()\n",
        "X = vectorizer.fit_transform(X)"
      ],
      "execution_count": 0,
      "outputs": []
    },
    {
      "cell_type": "code",
      "metadata": {
        "id": "xCW_4HlFfnFe",
        "colab_type": "code",
        "colab": {}
      },
      "source": [
        "X_train, X_test, y_train, y_test = train_test_split(X, y, test_size=0.3)"
      ],
      "execution_count": 0,
      "outputs": []
    },
    {
      "cell_type": "code",
      "metadata": {
        "id": "knAmYP0qMtJN",
        "colab_type": "code",
        "colab": {}
      },
      "source": [
        "# grid = {\"C\": np.power(10.0, np.arange(-5, 6))}\n",
        "# cv = KFold(n_splits=5, shuffle=True, random_state=241)\n",
        "# model = SVC(kernel=\"linear\", random_state=241)\n",
        "# gs = GridSearchCV(model, grid, scoring=\"accuracy\", cv=cv, verbose=1, n_jobs=-1)"
      ],
      "execution_count": 0,
      "outputs": []
    },
    {
      "cell_type": "code",
      "metadata": {
        "id": "aZ_bieCnQMoC",
        "colab_type": "code",
        "colab": {}
      },
      "source": [
        "# %%time\n",
        "\n",
        "# gs.fit(X_train, y_train.ravel())\n",
        "\n",
        "# C = gs.best_params_.get('C')\n",
        "# C"
      ],
      "execution_count": 0,
      "outputs": []
    },
    {
      "cell_type": "markdown",
      "metadata": {
        "id": "PY0YTmARhpM-",
        "colab_type": "text"
      },
      "source": [
        "**LINEAR KERNEL**"
      ]
    },
    {
      "cell_type": "code",
      "metadata": {
        "id": "g3cb3j9JMtJS",
        "colab_type": "code",
        "outputId": "df08cb60-00f1-4e85-a470-35942aba8eb3",
        "colab": {
          "base_uri": "https://localhost:8080/",
          "height": 51
        }
      },
      "source": [
        "%%time\n",
        "\n",
        "model = SVC(C=10, kernel=\"linear\", random_state=241)\n",
        "model.fit(X_train, y_train.ravel()) "
      ],
      "execution_count": 39,
      "outputs": [
        {
          "output_type": "stream",
          "text": [
            "CPU times: user 1h 32min 2s, sys: 89.8 ms, total: 1h 32min 2s\n",
            "Wall time: 1h 32min 8s\n"
          ],
          "name": "stdout"
        }
      ]
    },
    {
      "cell_type": "code",
      "metadata": {
        "id": "YivC-o4ZMtJY",
        "colab_type": "code",
        "colab": {}
      },
      "source": [
        "from sklearn import metrics\n",
        "import matplotlib.pyplot as plt"
      ],
      "execution_count": 0,
      "outputs": []
    },
    {
      "cell_type": "code",
      "metadata": {
        "id": "DXh0RAHnHwM9",
        "colab_type": "code",
        "colab": {}
      },
      "source": [
        "y_pred = model.predict(X_test)"
      ],
      "execution_count": 0,
      "outputs": []
    },
    {
      "cell_type": "code",
      "metadata": {
        "id": "_weg_WXATKxM",
        "colab_type": "code",
        "colab": {}
      },
      "source": [
        "# metrics.plot_precision_recall_curve(model, X, y)"
      ],
      "execution_count": 0,
      "outputs": []
    },
    {
      "cell_type": "code",
      "metadata": {
        "id": "77c55UaDTPK3",
        "colab_type": "code",
        "colab": {}
      },
      "source": [
        "# metrics.plot_confusion_matrix(model, X, y)"
      ],
      "execution_count": 0,
      "outputs": []
    },
    {
      "cell_type": "code",
      "metadata": {
        "id": "Y0pg7r8NTeUj",
        "colab_type": "code",
        "outputId": "82927f0a-f763-45bd-91aa-e2d09384f4a9",
        "colab": {
          "base_uri": "https://localhost:8080/",
          "height": 34
        }
      },
      "source": [
        "metrics.precision_score(y_test, y_pred)"
      ],
      "execution_count": 44,
      "outputs": [
        {
          "output_type": "execute_result",
          "data": {
            "text/plain": [
              "0.9904709748083242"
            ]
          },
          "metadata": {
            "tags": []
          },
          "execution_count": 44
        }
      ]
    },
    {
      "cell_type": "code",
      "metadata": {
        "id": "j3kpPAdBV68M",
        "colab_type": "code",
        "outputId": "a2181d4a-2299-436e-a70c-410279c80dfc",
        "colab": {
          "base_uri": "https://localhost:8080/",
          "height": 300
        }
      },
      "source": [
        "metrics.plot_confusion_matrix(model, X_test, y_test)"
      ],
      "execution_count": 45,
      "outputs": [
        {
          "output_type": "execute_result",
          "data": {
            "text/plain": [
              "<sklearn.metrics._plot.confusion_matrix.ConfusionMatrixDisplay at 0x7fdd75404898>"
            ]
          },
          "metadata": {
            "tags": []
          },
          "execution_count": 45
        },
        {
          "output_type": "display_data",
          "data": {
            "image/png": "[encoded data removed]",
            "text/plain": [
              "<Figure size 432x288 with 2 Axes>"
            ]
          },
          "metadata": {
            "tags": [],
            "needs_background": "light"
          }
        }
      ]
    },
    {
      "cell_type": "code",
      "metadata": {
        "id": "BBJ414ZaWr3Y",
        "colab_type": "code",
        "outputId": "ffa3773c-32d0-4b06-e48e-a20cad82b418",
        "colab": {
          "base_uri": "https://localhost:8080/",
          "height": 34
        }
      },
      "source": [
        "metrics.f1_score(y_test, y_pred)"
      ],
      "execution_count": 46,
      "outputs": [
        {
          "output_type": "execute_result",
          "data": {
            "text/plain": [
              "0.977067070041328"
            ]
          },
          "metadata": {
            "tags": []
          },
          "execution_count": 46
        }
      ]
    },
    {
      "cell_type": "markdown",
      "metadata": {
        "id": "bqbjA02Ehsqn",
        "colab_type": "text"
      },
      "source": [
        "**RBF KERNEL**"
      ]
    },
    {
      "cell_type": "code",
      "metadata": {
        "id": "Hcb4JLZnW3iH",
        "colab_type": "code",
        "colab": {}
      },
      "source": [
        "%%time\n",
        "\n",
        "model = SVC(C=10, kernel=\"rbf\", random_state=241)\n",
        "model.fit(X_train, y_train.ravel()) "
      ],
      "execution_count": 0,
      "outputs": []
    },
    {
      "cell_type": "code",
      "metadata": {
        "id": "_Q1SZronh2pM",
        "colab_type": "code",
        "colab": {}
      },
      "source": [
        "from sklearn import metrics\n",
        "import matplotlib.pyplot as plt"
      ],
      "execution_count": 0,
      "outputs": []
    },
    {
      "cell_type": "code",
      "metadata": {
        "id": "uXAAbUwuh5rX",
        "colab_type": "code",
        "colab": {}
      },
      "source": [
        "y_pred = model.predict(X_test)"
      ],
      "execution_count": 0,
      "outputs": []
    },
    {
      "cell_type": "code",
      "metadata": {
        "id": "DXWjihQ6h6Jv",
        "colab_type": "code",
        "colab": {}
      },
      "source": [
        "metrics.precision_score(y_test, y_pred)"
      ],
      "execution_count": 0,
      "outputs": []
    },
    {
      "cell_type": "code",
      "metadata": {
        "id": "HqwD9GmAh8XX",
        "colab_type": "code",
        "colab": {}
      },
      "source": [
        "metrics.plot_confusion_matrix(model, X_test, y_test)"
      ],
      "execution_count": 0,
      "outputs": []
    },
    {
      "cell_type": "code",
      "metadata": {
        "id": "8Ug2Z756h92Z",
        "colab_type": "code",
        "colab": {}
      },
      "source": [
        "metrics.f1_score(y_test, y_pred)"
      ],
      "execution_count": 0,
      "outputs": []
    },
    {
      "cell_type": "code",
      "metadata": {
        "id": "tEUxZXh4h-1L",
        "colab_type": "code",
        "colab": {}
      },
      "source": [
        ""
      ],
      "execution_count": 0,
      "outputs": []
    }
  ]
}